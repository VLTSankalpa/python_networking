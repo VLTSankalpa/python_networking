{
 "metadata": {
  "language_info": {
   "codemirror_mode": {
    "name": "ipython",
    "version": 3
   },
   "file_extension": ".py",
   "mimetype": "text/x-python",
   "name": "python",
   "nbconvert_exporter": "python",
   "pygments_lexer": "ipython3",
   "version": "3.9.0-final"
  },
  "orig_nbformat": 2,
  "kernelspec": {
   "name": "python3",
   "display_name": "Python 3.9.0 64-bit",
   "metadata": {
    "interpreter": {
     "hash": "df5e4851b95bd05b41d59fbc41010c3c304d842d5cf1cf0dad4721c00d31658d"
    }
   }
  }
 },
 "nbformat": 4,
 "nbformat_minor": 2,
 "cells": [
  {
   "cell_type": "code",
   "execution_count": 2,
   "metadata": {},
   "outputs": [],
   "source": [
    "\n",
    "import csv\n",
    "from jinja2 import Template"
   ]
  },
  {
   "cell_type": "code",
   "execution_count": 3,
   "metadata": {},
   "outputs": [],
   "source": [
    "source_file = \"switch-ports.csv\"\n",
    "interface_template_file = \"switchport-interface-template.j2\""
   ]
  },
  {
   "cell_type": "code",
   "execution_count": 4,
   "metadata": {},
   "outputs": [
    {
     "output_type": "execute_result",
     "data": {
      "text/plain": [
       "str"
      ]
     },
     "metadata": {},
     "execution_count": 4
    }
   ],
   "source": [
    "type(source_file)"
   ]
  },
  {
   "cell_type": "code",
   "execution_count": 5,
   "metadata": {},
   "outputs": [
    {
     "output_type": "execute_result",
     "data": {
      "text/plain": [
       "str"
      ]
     },
     "metadata": {},
     "execution_count": 5
    }
   ],
   "source": [
    "type(interface_template_file)"
   ]
  },
  {
   "cell_type": "code",
   "execution_count": 6,
   "metadata": {},
   "outputs": [],
   "source": [
    "# String that will hold final full configuration of all interfaces\n",
    "interface_configs = \"\"\n",
    "\n",
    "# Open up the Jinja template file (as text) and then create a Jinja Template Object \n",
    "with open(interface_template_file) as f:\n",
    "    interface_template = Template(f.read(), keep_trailing_newline=True)"
   ]
  },
  {
   "cell_type": "code",
   "execution_count": 7,
   "metadata": {},
   "outputs": [],
   "source": [
    "# Open up the Jinja template file (as text) and then create a Jinja Template Object \n",
    "with open(interface_template_file) as f:\n",
    "    interface_template = Template(f.read(), keep_trailing_newline=True)\n",
    "\n",
    "# Open up the CSV file containing the data \n",
    "with open(source_file) as f:\n",
    "    # Use DictReader to access data from CSV \n",
    "    reader = csv.DictReader(f)\n",
    "    # For each row in the CSV, generate an interface configuration using the jinja template \n",
    "    for row in reader:\n",
    "        interface_config = interface_template.render(\n",
    "            interface = row[\"Interface\"],\n",
    "            vlan = row[\"VLAN\"],\n",
    "            server = row[\"Server\"],\n",
    "            link = row[\"Link\"],\n",
    "            purpose = row[\"Purpose\"]\n",
    "        )\n",
    "\n",
    "        # Append this interface configuration to the full configuration \n",
    "        interface_configs += interface_config"
   ]
  },
  {
   "cell_type": "code",
   "execution_count": 9,
   "metadata": {},
   "outputs": [
    {
     "output_type": "stream",
     "name": "stdout",
     "text": [
      "! Generated Configuration\ninterface Ethernet1/13\n  description Link to esxi-01 port nic 0 for Virtualization Host\n  switchport\n  switchport mode trunk\n  no shutdown\n\n \n! Generated Configuration\ninterface Ethernet1/14\n  description Link to esxi-01 port nic 1 for Virtualization Host\n  switchport\n  switchport mode trunk\n  no shutdown\n\n \n! Generated Configuration\ninterface Ethernet1/15\n  description Link to esxi-01 port nic 2 for Virtualization Host\n  switchport\n  switchport mode trunk\n  no shutdown\n\n \n! Generated Configuration\ninterface Ethernet1/16\n  description Link to esxi-01 port nic 3 for Virtualization Host\n  switchport\n  switchport mode trunk\n  no shutdown\n\n \n! Generated Configuration\ninterface Ethernet1/17\n  description Link to esxi-02 port nic 0 for Virtualization Host\n  switchport\n  switchport mode trunk\n  no shutdown\n\n \n! Generated Configuration\ninterface Ethernet1/18\n  description Link to esxi-02 port nic 1 for Virtualization Host\n  switchport\n  switchport mode trunk\n  no shutdown\n\n \n! Generated Configuration\ninterface Ethernet1/19\n  description Link to esxi-02 port nic 2 for Virtualization Host\n  switchport\n  switchport mode trunk\n  no shutdown\n\n \n! Generated Configuration\ninterface Ethernet1/20\n  description Link to esxi-02 port nic 3 for Virtualization Host\n  switchport\n  switchport mode trunk\n  no shutdown\n\n \n! Generated Configuration\ninterface Ethernet1/21\n  description Link to esxi-03 port nic 0 for Virtualization Host\n  switchport\n  switchport mode trunk\n  no shutdown\n\n \n! Generated Configuration\ninterface Ethernet1/22\n  description Link to esxi-03 port nic 1 for Virtualization Host\n  switchport\n  switchport mode trunk\n  no shutdown\n\n \n! Generated Configuration\ninterface Ethernet1/23\n  description Link to esxi-03 port nic 2 for Virtualization Host\n  switchport\n  switchport mode trunk\n  no shutdown\n\n \n! Generated Configuration\ninterface Ethernet1/24\n  description Link to esxi-03 port nic 3 for Virtualization Host\n  switchport\n  switchport mode trunk\n  no shutdown\n\n \n! Generated Configuration\ninterface Ethernet1/25\n  description Link to esxi-04 port nic 0 for Virtualization Host\n  switchport\n  switchport mode trunk\n  no shutdown\n\n \n! Generated Configuration\ninterface Ethernet1/26\n  description Link to esxi-04 port nic 1 for Virtualization Host\n  switchport\n  switchport mode trunk\n  no shutdown\n\n \n! Generated Configuration\ninterface Ethernet1/27\n  description Link to esxi-04 port nic 2 for Virtualization Host\n  switchport\n  switchport mode trunk\n  no shutdown\n\n \n! Generated Configuration\ninterface Ethernet1/28\n  description Link to esxi-04 port nic 3 for Virtualization Host\n  switchport\n  switchport mode trunk\n  no shutdown\n\n \n! Generated Configuration\ninterface Ethernet1/29\n  description Link to esxi-05 port nic 0 for Virtualization Host\n  switchport\n  switchport mode trunk\n  no shutdown\n\n \n! Generated Configuration\ninterface Ethernet1/30\n  description Link to esxi-05 port nic 1 for Virtualization Host\n  switchport\n  switchport mode trunk\n  no shutdown\n\n \n! Generated Configuration\ninterface Ethernet1/31\n  description Link to esxi-05 port nic 2 for Virtualization Host\n  switchport\n  switchport mode trunk\n  no shutdown\n\n \n! Generated Configuration\ninterface Ethernet1/32\n  description Link to esxi-05 port nic 3 for Virtualization Host\n  switchport\n  switchport mode trunk\n  no shutdown\n\n \n! Generated Configuration\ninterface Ethernet1/33\n  description Link to esxi-06 port nic 0 for Virtualization Host\n  switchport\n  switchport mode trunk\n  no shutdown\n\n \n! Generated Configuration\ninterface Ethernet1/34\n  description Link to esxi-06 port nic 1 for Virtualization Host\n  switchport\n  switchport mode trunk\n  no shutdown\n\n \n! Generated Configuration\ninterface Ethernet1/35\n  description Link to esxi-06 port nic 2 for Virtualization Host\n  switchport\n  switchport mode trunk\n  no shutdown\n\n \n! Generated Configuration\ninterface Ethernet1/36\n  description Link to esxi-06 port nic 3 for Virtualization Host\n  switchport\n  switchport mode trunk\n  no shutdown\n\n \n! Generated Configuration\ninterface Ethernet1/37\n  description Link to esxi-07 port nic 0 for Virtualization Host\n  switchport\n  switchport mode trunk\n  no shutdown\n\n \n! Generated Configuration\ninterface Ethernet1/38\n  description Link to esxi-07 port nic 1 for Virtualization Host\n  switchport\n  switchport mode trunk\n  no shutdown\n\n \n! Generated Configuration\ninterface Ethernet1/39\n  description Link to esxi-07 port nic 2 for Virtualization Host\n  switchport\n  switchport mode trunk\n  no shutdown\n\n \n! Generated Configuration\ninterface Ethernet1/40\n  description Link to esxi-07 port nic 3 for Virtualization Host\n  switchport\n  switchport mode trunk\n  no shutdown\n\n \n! Generated Configuration\ninterface Ethernet1/41\n  description Link to esxi-08 port nic 0 for Virtualization Host\n  switchport\n  switchport mode trunk\n  no shutdown\n\n \n! Generated Configuration\ninterface Ethernet1/42\n  description Link to esxi-08 port nic 1 for Virtualization Host\n  switchport\n  switchport mode trunk\n  no shutdown\n\n \n! Generated Configuration\ninterface Ethernet1/43\n  description Link to esxi-08 port nic 2 for Virtualization Host\n  switchport\n  switchport mode trunk\n  no shutdown\n\n \n! Generated Configuration\ninterface Ethernet1/44\n  description Link to esxi-08 port nic 3 for Virtualization Host\n  switchport\n  switchport mode trunk\n  no shutdown\n\n \n! Generated Configuration\ninterface Ethernet1/45\n  description Link to db-01 port nic 0 for Database Server\n  switchport\n  switchport mode access\n  switchport access vlan 101\n  spanning-tree port type edge\n  no shutdown\n\n \n! Generated Configuration\ninterface Ethernet1/46\n  description Link to db-01 port nic 1 for Database Server\n  switchport\n  switchport mode access\n  switchport access vlan 101\n  spanning-tree port type edge\n  no shutdown\n\n \n! Generated Configuration\ninterface Ethernet1/47\n  description Link to db-02 port nic 0 for Database Server\n  switchport\n  switchport mode access\n  switchport access vlan 101\n  spanning-tree port type edge\n  no shutdown\n\n \n! Generated Configuration\ninterface Ethernet1/48\n  description Link to db-02 port nic 1 for Database Server\n  switchport\n  switchport mode access\n  switchport access vlan 101\n  spanning-tree port type edge\n  no shutdown\n\n \n! Generated Configuration\ninterface Ethernet1/49\n  description Link to db-03 port nic 0 for Database Server\n  switchport\n  switchport mode access\n  switchport access vlan 101\n  spanning-tree port type edge\n  no shutdown\n\n \n! Generated Configuration\ninterface Ethernet1/50\n  description Link to db-03 port nic 1 for Database Server\n  switchport\n  switchport mode access\n  switchport access vlan 101\n  spanning-tree port type edge\n  no shutdown\n\n \n! Generated Configuration\ninterface Ethernet1/51\n  description Link to dev-db-01 port nic 0 for Database Server\n  switchport\n  switchport mode access\n  switchport access vlan 102\n  spanning-tree port type edge\n  no shutdown\n\n \n! Generated Configuration\ninterface Ethernet1/52\n  description Link to dev-db-01 port nic 1 for Database Server\n  switchport\n  switchport mode access\n  switchport access vlan 102\n  spanning-tree port type edge\n  no shutdown\n\n \n! Generated Configuration\ninterface Ethernet1/53\n  description Link to dev-db-02 port nic 0 for Database Server\n  switchport\n  switchport mode access\n  switchport access vlan 102\n  spanning-tree port type edge\n  no shutdown\n\n \n! Generated Configuration\ninterface Ethernet1/54\n  description Link to dev-db-02 port nic 1 for Database Server\n  switchport\n  switchport mode access\n  switchport access vlan 102\n  spanning-tree port type edge\n  no shutdown\n\n \n! Generated Configuration\ninterface Ethernet1/55\n  description Link to dev-db-03 port nic 0 for Database Server\n  switchport\n  switchport mode access\n  switchport access vlan 102\n  spanning-tree port type edge\n  no shutdown\n\n \n! Generated Configuration\ninterface Ethernet1/56\n  description Link to dev-db-03 port nic 1 for Database Server\n  switchport\n  switchport mode access\n  switchport access vlan 102\n  spanning-tree port type edge\n  no shutdown\n\n \n! Generated Configuration\ninterface Ethernet1/57\n  description Link to admin-01 port nic 0 for Admin Server\n  switchport\n  switchport mode access\n  switchport access vlan 100\n  spanning-tree port type edge\n  no shutdown\n\n \n! Generated Configuration\ninterface Ethernet1/58\n  description Link to admin-01 port nic 2 for Admin Server\n  switchport\n  switchport mode access\n  switchport access vlan 100\n  spanning-tree port type edge\n  no shutdown\n\n \n! Generated Configuration\ninterface Ethernet1/59\n  description Link to server-01 port nic 0 for App Server\n  switchport\n  switchport mode access\n  switchport access vlan 103\n  spanning-tree port type edge\n  no shutdown\n\n \n! Generated Configuration\ninterface Ethernet1/60\n  description Link to server-01 port nic 1 for App Server\n  switchport\n  switchport mode access\n  switchport access vlan 103\n  spanning-tree port type edge\n  no shutdown\n\n \n! Generated Configuration\ninterface Ethernet1/61\n  description Link to server-02 port nic 0 for App Server\n  switchport\n  switchport mode access\n  switchport access vlan 104\n  spanning-tree port type edge\n  no shutdown\n\n \n! Generated Configuration\ninterface Ethernet1/62\n  description Link to server-02 port nic 1 for App Server\n  switchport\n  switchport mode access\n  switchport access vlan 104\n  spanning-tree port type edge\n  no shutdown\n\n \n! Generated Configuration\ninterface Ethernet1/63\n  description Link to server-03 port nic 0 for App Server\n  switchport\n  switchport mode access\n  switchport access vlan 105\n  spanning-tree port type edge\n  no shutdown\n\n \n! Generated Configuration\ninterface Ethernet1/64\n  description Link to server-03 port nic 1 for App Server\n  switchport\n  switchport mode access\n  switchport access vlan 105\n  spanning-tree port type edge\n  no shutdown\n\n \n\n"
     ]
    }
   ],
   "source": [
    "print(interface_configs)"
   ]
  },
  {
   "cell_type": "code",
   "execution_count": null,
   "metadata": {},
   "outputs": [],
   "source": []
  }
 ]
}